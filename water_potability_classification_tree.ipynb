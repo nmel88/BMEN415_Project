{
 "cells": [
  {
   "cell_type": "code",
   "execution_count": 1,
   "id": "5accdef9",
   "metadata": {},
   "outputs": [],
   "source": [
    "#importing necessary packages\n",
    "import pandas as pd\n",
    "import numpy as np\n",
    "import seaborn as sns\n",
    "from sklearn import tree\n",
    "import matplotlib.pyplot as plt\n",
    "from sklearn.metrics import confusion_matrix"
   ]
  },
  {
   "cell_type": "code",
   "execution_count": 2,
   "id": "df0d2860",
   "metadata": {},
   "outputs": [
    {
     "data": {
      "text/html": [
       "<div>\n",
       "<style scoped>\n",
       "    .dataframe tbody tr th:only-of-type {\n",
       "        vertical-align: middle;\n",
       "    }\n",
       "\n",
       "    .dataframe tbody tr th {\n",
       "        vertical-align: top;\n",
       "    }\n",
       "\n",
       "    .dataframe thead th {\n",
       "        text-align: right;\n",
       "    }\n",
       "</style>\n",
       "<table border=\"1\" class=\"dataframe\">\n",
       "  <thead>\n",
       "    <tr style=\"text-align: right;\">\n",
       "      <th></th>\n",
       "      <th>ph</th>\n",
       "      <th>Hardness</th>\n",
       "      <th>Solids</th>\n",
       "      <th>Chloramines</th>\n",
       "      <th>Sulfate</th>\n",
       "      <th>Conductivity</th>\n",
       "      <th>Organic_carbon</th>\n",
       "      <th>Trihalomethanes</th>\n",
       "      <th>Turbidity</th>\n",
       "      <th>Potability</th>\n",
       "    </tr>\n",
       "  </thead>\n",
       "  <tbody>\n",
       "    <tr>\n",
       "      <th>0</th>\n",
       "      <td>6.999765</td>\n",
       "      <td>219.143373</td>\n",
       "      <td>16078.45939</td>\n",
       "      <td>7.652135</td>\n",
       "      <td>355.688892</td>\n",
       "      <td>282.502338</td>\n",
       "      <td>17.297556</td>\n",
       "      <td>65.065069</td>\n",
       "      <td>3.360131</td>\n",
       "      <td>1</td>\n",
       "    </tr>\n",
       "    <tr>\n",
       "      <th>1</th>\n",
       "      <td>8.575673</td>\n",
       "      <td>197.560283</td>\n",
       "      <td>15888.62521</td>\n",
       "      <td>4.865463</td>\n",
       "      <td>311.557381</td>\n",
       "      <td>464.725567</td>\n",
       "      <td>18.736927</td>\n",
       "      <td>40.224521</td>\n",
       "      <td>3.506229</td>\n",
       "      <td>0</td>\n",
       "    </tr>\n",
       "    <tr>\n",
       "      <th>2</th>\n",
       "      <td>3.433874</td>\n",
       "      <td>152.480075</td>\n",
       "      <td>16318.73361</td>\n",
       "      <td>5.973098</td>\n",
       "      <td>313.064317</td>\n",
       "      <td>412.915539</td>\n",
       "      <td>9.970144</td>\n",
       "      <td>68.507542</td>\n",
       "      <td>4.104938</td>\n",
       "      <td>0</td>\n",
       "    </tr>\n",
       "    <tr>\n",
       "      <th>3</th>\n",
       "      <td>8.376280</td>\n",
       "      <td>248.132861</td>\n",
       "      <td>27824.19048</td>\n",
       "      <td>7.100523</td>\n",
       "      <td>343.057975</td>\n",
       "      <td>433.449899</td>\n",
       "      <td>18.658886</td>\n",
       "      <td>53.303760</td>\n",
       "      <td>5.703963</td>\n",
       "      <td>0</td>\n",
       "    </tr>\n",
       "    <tr>\n",
       "      <th>4</th>\n",
       "      <td>6.920389</td>\n",
       "      <td>252.352799</td>\n",
       "      <td>11086.25986</td>\n",
       "      <td>9.993376</td>\n",
       "      <td>285.744758</td>\n",
       "      <td>368.629147</td>\n",
       "      <td>17.120803</td>\n",
       "      <td>43.667082</td>\n",
       "      <td>3.277601</td>\n",
       "      <td>0</td>\n",
       "    </tr>\n",
       "  </tbody>\n",
       "</table>\n",
       "</div>"
      ],
      "text/plain": [
       "         ph    Hardness       Solids  Chloramines     Sulfate  Conductivity  \\\n",
       "0  6.999765  219.143373  16078.45939     7.652135  355.688892    282.502338   \n",
       "1  8.575673  197.560283  15888.62521     4.865463  311.557381    464.725567   \n",
       "2  3.433874  152.480075  16318.73361     5.973098  313.064317    412.915539   \n",
       "3  8.376280  248.132861  27824.19048     7.100523  343.057975    433.449899   \n",
       "4  6.920389  252.352799  11086.25986     9.993376  285.744758    368.629147   \n",
       "\n",
       "   Organic_carbon  Trihalomethanes  Turbidity  Potability  \n",
       "0       17.297556        65.065069   3.360131           1  \n",
       "1       18.736927        40.224521   3.506229           0  \n",
       "2        9.970144        68.507542   4.104938           0  \n",
       "3       18.658886        53.303760   5.703963           0  \n",
       "4       17.120803        43.667082   3.277601           0  "
      ]
     },
     "execution_count": 2,
     "metadata": {},
     "output_type": "execute_result"
    }
   ],
   "source": [
    "#importing data sets that has already been preprocessed (null values have been dealt with)\n",
    "trainData = pd.read_csv('trainWP.csv')\n",
    "testData = pd.read_csv('testWP.csv')\n",
    "trainData.head() #checking data upload with a visual ouput"
   ]
  },
  {
   "cell_type": "code",
   "execution_count": 3,
   "id": "95d6dafd",
   "metadata": {},
   "outputs": [],
   "source": [
    "#seperating inputs (x's) and outputs (y's) for test train data\n",
    "xtrain = trainData.drop('Potability', axis=1)\n",
    "ytrain = trainData['Potability']\n",
    "xtest = testData.drop('Potability', axis=1)\n",
    "ytest = testData['Potability']"
   ]
  },
  {
   "cell_type": "code",
   "execution_count": 4,
   "id": "366c3e55",
   "metadata": {},
   "outputs": [],
   "source": [
    "#training model with gaussian naive bayes\n",
    "clf = tree.DecisionTreeClassifier()\n",
    "ypred = clf.fit(xtrain, ytrain).predict(xtest)"
   ]
  },
  {
   "cell_type": "code",
   "execution_count": 5,
   "id": "697e95a1",
   "metadata": {},
   "outputs": [
    {
     "name": "stdout",
     "output_type": "stream",
     "text": [
      "Number of mislabeled points out of a total 656 points :  257\n"
     ]
    }
   ],
   "source": [
    "#number of mislabeled points gives an indication of accuracy\n",
    "print(\"Number of mislabeled points out of a total\", (xtest.shape[0]), \"points : \",(ytest != ypred).sum())"
   ]
  },
  {
   "cell_type": "code",
   "execution_count": 6,
   "id": "ae9d102b",
   "metadata": {},
   "outputs": [
    {
     "name": "stdout",
     "output_type": "stream",
     "text": [
      "Model score: 0.61\n"
     ]
    },
    {
     "data": {
      "image/png": "[encoded data removed]",
      "text/plain": [
       "<Figure size 432x288 with 1 Axes>"
      ]
     },
     "metadata": {
      "needs_background": "light"
     },
     "output_type": "display_data"
    }
   ],
   "source": [
    "#scoring the model\n",
    "print(\"Model score: %.2f\" % clf.score(xtest,ytest))\n",
    "#confusion matrix\n",
    "confMat = confusion_matrix(ytest,ypred)\n",
    "sns.heatmap(confMat, square=True, annot=True, fmt='d', cbar=False)\n",
    "plt.show()"
   ]
  },
  {
   "cell_type": "code",
   "execution_count": null,
   "id": "84bb7766",
   "metadata": {},
   "outputs": [],
   "source": []
  }
 ],
 "metadata": {
  "kernelspec": {
   "display_name": "Python 3 (ipykernel)",
   "language": "python",
   "name": "python3"
  },
  "language_info": {
   "codemirror_mode": {
    "name": "ipython",
    "version": 3
   },
   "file_extension": ".py",
   "mimetype": "text/x-python",
   "name": "python",
   "nbconvert_exporter": "python",
   "pygments_lexer": "ipython3",
   "version": "3.9.7"
  }
 },
 "nbformat": 4,
 "nbformat_minor": 5
}
