{
 "cells": [
  {
   "cell_type": "code",
   "execution_count": 48,
   "id": "3bcb281a",
   "metadata": {},
   "outputs": [
    {
     "name": "stdout",
     "output_type": "stream",
     "text": [
      "Alpha:1e-06  Accuracy:0.626524\n",
      "Alpha:5e-06  Accuracy:0.626524\n",
      "Alpha:1e-05  Accuracy:0.626524\n",
      "Alpha:5e-05  Accuracy:0.626524\n",
      "Alpha:0.0001  Accuracy:0.626524\n",
      "Alpha:0.0005  Accuracy:0.626524\n",
      "Alpha:0.001  Accuracy:0.626524\n",
      "Alpha:0.005  Accuracy:0.626524\n",
      "Alpha:0.01  Accuracy:0.626524\n",
      "Alpha:1  Accuracy:0.637195\n",
      "Alpha:10  Accuracy:0.637195\n",
      "Alpha:100  Accuracy:0.637195\n",
      "Alpha:500  Accuracy:0.637195\n",
      "Alpha:1000  Accuracy:0.637195\n",
      "Alpha:10000  Accuracy:0.637195\n",
      "Alpha:1000000  Accuracy:0.637195\n"
     ]
    }
   ],
   "source": [
    "from sklearn.linear_model import RidgeClassifier\n",
    "from sklearn.datasets import make_classification\n",
    "\n",
    "from sklearn.model_selection import cross_val_score\n",
    "from sklearn.preprocessing import StandardScaler\n",
    "from sklearn import metrics\n",
    "\n",
    "import pandas as pd\n",
    "import matplotlib.pyplot as plt\n",
    "import numpy as np\n",
    "import seaborn as sns\n",
    "\n",
    "train= pd.read_csv(r'C:/Users/Melanie/Downloads/trainWP.csv')\n",
    "# print (df)\n",
    "test= pd.read_csv(r'C:/Users/Melanie/Downloads/testWP.csv')\n",
    "\n",
    "x_train= train.drop('Potability', axis=1)\n",
    "y_train=train['Potability']\n",
    "\n",
    "# print(x_train)\n",
    "x_test= test.drop('Potability', axis=1)\n",
    "y_test= test['Potability']\n",
    "\n",
    "scaler=StandardScaler()\n",
    "\n",
    "x_train_s= scaler.fit_transform(x_train)\n",
    "x_test_s= scaler.transform(x_test)\n",
    "\n",
    "\n",
    "alphas= [0.000001, 0.000005,0.00001, 0.00005, 0.0001, 0.0005, 0.001, 0.005,0.01, 1,10, 100, 500, 1000, 10000, 1000000]\n",
    "\n",
    "for r in alphas:\n",
    "    rc= RidgeClassifier(alpha=r, normalize=True)\n",
    "    rc.fit(x_train_s, y_train)\n",
    "    ypredict= rc.predict(x_test_s)\n",
    "    score= rc.score(x_test_s, y_test)\n",
    "#     accuracy_sc= metrics.accuracy_score(y_test, ypredict)\n",
    "    print(\"Alpha:{}  Accuracy:{:6f}\".format(r, score))\n",
    "    \n"
   ]
  },
  {
   "cell_type": "code",
   "execution_count": 47,
   "id": "5c487b22",
   "metadata": {},
   "outputs": [
    {
     "name": "stdout",
     "output_type": "stream",
     "text": [
      "0.6265243902439024\n",
      "[[402  16]\n",
      " [229   9]]\n",
      "              precision    recall  f1-score   support\n",
      "\n",
      "           0       0.64      0.96      0.77       418\n",
      "           1       0.36      0.04      0.07       238\n",
      "\n",
      "    accuracy                           0.63       656\n",
      "   macro avg       0.50      0.50      0.42       656\n",
      "weighted avg       0.54      0.63      0.51       656\n",
      "\n"
     ]
    },
    {
     "data": {
      "image/png": "[encoded data removed]",
      "text/plain": [
       "<Figure size 432x288 with 2 Axes>"
      ]
     },
     "metadata": {
      "needs_background": "light"
     },
     "output_type": "display_data"
    }
   ],
   "source": [
    "rc= RidgeClassifier(alpha=0.001, normalize=True)\n",
    "rc.fit(x_train_s, y_train)\n",
    "rc.score(x_test_s, y_test)\n",
    "\n",
    "y_predict=rc.predict(x_test_s)\n",
    "accuracy= metrics.accuracy_score(y_test, y_predict)\n",
    "print(accuracy)\n",
    "\n",
    "from sklearn.metrics import confusion_matrix\n",
    "from sklearn.metrics import classification_report\n",
    "\n",
    "cf_matrix=confusion_matrix(y_test, y_predict)\n",
    "print(cf_matrix)\n",
    "sns.heatmap(cf_matrix, fmt='d', annot = True)\n",
    "\n",
    "print(classification_report(y_test, y_predict))\n"
   ]
  },
  {
   "cell_type": "code",
   "execution_count": 3,
   "id": "883d9a3d",
   "metadata": {},
   "outputs": [],
   "source": [
    "# # Print confusion matrix\n",
    "# y_predict= rc.predict(x_test)\n",
    "# cf_matrix= confusion_matrix(y_test, y_predict)\n",
    "# print(cf_matrix)\n",
    "# # sns.heatmap(cf_matrix, fmt='d', annot = True)"
   ]
  }
 ],
 "metadata": {
  "kernelspec": {
   "display_name": "Python 3 (ipykernel)",
   "language": "python",
   "name": "python3"
  },
  "language_info": {
   "codemirror_mode": {
    "name": "ipython",
    "version": 3
   },
   "file_extension": ".py",
   "mimetype": "text/x-python",
   "name": "python",
   "nbconvert_exporter": "python",
   "pygments_lexer": "ipython3",
   "version": "3.9.7"
  }
 },
 "nbformat": 4,
 "nbformat_minor": 5
}
