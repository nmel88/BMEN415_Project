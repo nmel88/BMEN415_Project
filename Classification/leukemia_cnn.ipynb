{
 "cells": [
  {
   "cell_type": "code",
   "execution_count": 1,
   "id": "a4cfe638",
   "metadata": {
    "scrolled": true
   },
   "outputs": [],
   "source": [
    "#Image Classification Model\n",
    "\n",
    "import glob\n",
    "import cv2\n",
    "import numpy as np\n",
    "#Importing Training Data \n",
    "\n",
    "train1all = [cv2.imread(file) for file in glob.glob(\"C:/Users/Josh/Documents/UofC ChemE Content/BMEN 415 - Sensor and Data Analytics/Project Data/C-NMC_training_data/fold_0/all/*.bmp\")]\n",
    "train1hem = [cv2.imread(file) for file in glob.glob(\"C:/Users/Josh/Documents/UofC ChemE Content/BMEN 415 - Sensor and Data Analytics/Project Data/C-NMC_training_data/fold_0/hem/*.bmp\")]\n",
    "train2all = [cv2.imread(file) for file in glob.glob(\"C:/Users/Josh/Documents/UofC ChemE Content/BMEN 415 - Sensor and Data Analytics/Project Data/C-NMC_training_data/fold_1/all/*.bmp\")]\n",
    "train2hem = [cv2.imread(file) for file in glob.glob(\"C:/Users/Josh/Documents/UofC ChemE Content/BMEN 415 - Sensor and Data Analytics/Project Data/C-NMC_training_data/fold_1/hem/*.bmp\")]\n",
    "train3all = [cv2.imread(file) for file in glob.glob(\"C:/Users/Josh/Documents/UofC ChemE Content/BMEN 415 - Sensor and Data Analytics/Project Data/C-NMC_training_data/fold_2/all/*.bmp\")]\n",
    "train3hem = [cv2.imread(file) for file in glob.glob(\"C:/Users/Josh/Documents/UofC ChemE Content/BMEN 415 - Sensor and Data Analytics/Project Data/C-NMC_training_data/fold_2/hem/*.bmp\")]"
   ]
  },
  {
   "cell_type": "code",
   "execution_count": 21,
   "id": "220107c9",
   "metadata": {
    "scrolled": true
   },
   "outputs": [],
   "source": [
    "trainall = train1all +train2all +train3all\n",
    "trainhem = train1hem +train2hem +train3hem\n",
    "\n",
    "trainall = train1all +train2all +train3all\n",
    "trainhem = train1hem +train2hem +train3hem\n",
    "y_train = [1]*len(trainall) + [0]*len(trainhem) #Setting 1s to Leukemia Immature Cell and 0s to Normal Cell\n",
    "x_train = trainall+trainhem\n",
    "y_train = np.array(y_train)\n",
    "x_train = np.array(x_train)"
   ]
  },
  {
   "cell_type": "code",
   "execution_count": 3,
   "id": "9a79dc9b",
   "metadata": {
    "scrolled": false
   },
   "outputs": [
    {
     "name": "stdout",
     "output_type": "stream",
     "text": [
      "Class Imbalance: 7272 3389\n",
      "New Class Distribution 7272 6778\n"
     ]
    }
   ],
   "source": [
    "#Not Run for Final Testing as it Appeared to Decrease Accuracy by 2-3% \n",
    "print('Class Imbalance:', len(trainall), len(trainhem))  #Class imbalance\n",
    "\n",
    "#Flipping Minor class sample to generate more samples\n",
    "trainhemTemp = np.array(trainhem)\n",
    "trainhemF = np.flipud(trainhemTemp) #Flip Vertically\n",
    "#Adding In Augmented Data to Balance Classes\n",
    "y_trainTemp = np.zeros(len(trainhemF)) #Labels 0 = Normal Cell\n",
    "x_train = np.concatenate((x_train, trainhemF), axis=0)\n",
    "y_train = np.concatenate((y_train, y_trainTemp), axis=0)\n",
    "\n",
    "print('New Class Distribution', len(trainall), 2*len(trainhem))"
   ]
  },
  {
   "cell_type": "code",
   "execution_count": 4,
   "id": "7643f78e",
   "metadata": {
    "scrolled": true
   },
   "outputs": [],
   "source": [
    "#Importing Testing Data (Needs to be Matched with Labels)\n",
    "import pandas as pd\n",
    "\n",
    "ylabels = pd.read_csv (r'C:/Users/Josh/Documents/UofC ChemE Content/BMEN 415 - Sensor and Data Analytics/Project Data/validation_data/C-NMC_test_prelim_phase_data_labels.csv')\n",
    "\n",
    "x_test= []\n",
    "y_test= []\n",
    "\n",
    "for file in glob.glob(\"C:/Users/Josh/Documents/UofC ChemE Content/BMEN 415 - Sensor and Data Analytics/Project Data/validation_data/C-NMC_test_prelim_phase_data/*.bmp\"):\n",
    "    img= cv2.imread(file)\n",
    "    x_test.append(img)\n",
    "    index = np.where(ylabels ==file.split(\"\\\\\")[1])[0]\n",
    "    value = ylabels.iat[int(index), 2]\n",
    "    y_test.append(value)   \n",
    "                      \n"
   ]
  },
  {
   "cell_type": "code",
   "execution_count": 22,
   "id": "0a72ccd6",
   "metadata": {
    "scrolled": true
   },
   "outputs": [],
   "source": [
    "#Resizing Images to be Smaller\n",
    "image = train1all[0]\n",
    "resized_image = cv2.resize(image, dsize=(128,128), interpolation=cv2.INTER_CUBIC)\n",
    "x_Strain = [resized_image]*len(x_train)\n",
    "x_Stest = [resized_image]*len(x_test)\n",
    "\n",
    "for n in range(len(x_train)):\n",
    "    x_Strain[n] =  cv2.resize(x_train[n], dsize=(128,128), interpolation=cv2.INTER_CUBIC)\n",
    "\n",
    "for i in range(len(x_test)):\n",
    "    x_Stest[i] =  cv2.resize(x_test[i], dsize=(128,128), interpolation=cv2.INTER_CUBIC)\n",
    "    "
   ]
  },
  {
   "cell_type": "code",
   "execution_count": 23,
   "id": "0d0bbbf1",
   "metadata": {
    "scrolled": true
   },
   "outputs": [
    {
     "name": "stdout",
     "output_type": "stream",
     "text": [
      "x_Ntrain shape: (10661, 128, 128, 3)\n",
      "10661 train samples\n"
     ]
    }
   ],
   "source": [
    "#Normalizing RBG Values\n",
    "x_Strain = np.array(x_Strain)\n",
    "x_Ntrain = x_Strain.astype(\"float32\") / 255\n",
    "\n",
    "x_Stest = np.array(x_Stest)\n",
    "x_Ntest = x_Stest.astype(\"float32\") / 255\n",
    "\n",
    "print(\"x_Ntrain shape:\", x_Ntrain.shape)\n",
    "print(x_Ntrain.shape[0], \"train samples\")"
   ]
  },
  {
   "cell_type": "code",
   "execution_count": 7,
   "id": "1fbb1dae",
   "metadata": {
    "scrolled": true
   },
   "outputs": [
    {
     "data": {
      "image/png": "[encoded data removed]",
      "text/plain": [
       "<Figure size 432x288 with 1 Axes>"
      ]
     },
     "metadata": {
      "needs_background": "light"
     },
     "output_type": "display_data"
    }
   ],
   "source": [
    "\n",
    "#Reviewing and Resizing Images To Be Smaller\n",
    "%matplotlib inline\n",
    "import matplotlib.pyplot as plt\n",
    "import matplotlib.image as mpimg\n",
    "image = x_Ntest[1]\n",
    "imgplot = plt.imshow(image)\n",
    "plt.show()\n"
   ]
  },
  {
   "cell_type": "code",
   "execution_count": 26,
   "id": "099022ec",
   "metadata": {
    "scrolled": true
   },
   "outputs": [],
   "source": [
    "#Experimenting with One-Hot Encoding as Recommeneded by the TA's\n",
    "y_train = np.array(y_train)\n",
    "y_Htrain = np.empty([len(y_train),2])\n",
    "y_Htrain[:,0] = y_train\n",
    "y_Htrain[:,1]= 1-y_train\n",
    "\n",
    "y_test = np.array(y_test)\n",
    "y_Htest = np.empty([len(y_test),2])\n",
    "y_Htest[:,0] = y_test\n",
    "y_Htest[:,1]= 1-y_test"
   ]
  },
  {
   "cell_type": "code",
   "execution_count": 30,
   "id": "d051631a",
   "metadata": {
    "scrolled": true
   },
   "outputs": [],
   "source": [
    "#Building the Model\n",
    "from keras.layers import Activation, Dense, Dropout\n",
    "from keras.models import Sequential \n",
    "import tensorflow as tf\n",
    "from tensorflow import keras\n",
    "from tensorflow.keras import layers\n",
    "\n",
    "input_shape = x_Strain[1].shape #128, 128, 3\n",
    "\n",
    "model = Sequential()\n",
    "model.add(layers.Conv2D(16, (3, 3), activation='relu', input_shape=input_shape))\n",
    "model.add(layers.MaxPooling2D((2, 2)))\n",
    "model.add(Dropout(0.25))\n",
    "model.add(layers.Conv2D(32, (3, 3), activation='relu'))\n",
    "model.add(layers.MaxPooling2D((2, 2)))\n",
    "model.add(Dropout(0.25))\n",
    "model.add(layers.Flatten())\n",
    "model.add(Dense(25))\n",
    "model.add(Activation('relu'))\n",
    "model.add(Dense(2))\n",
    "model.add(Activation('sigmoid'))"
   ]
  },
  {
   "cell_type": "code",
   "execution_count": 31,
   "id": "002097db",
   "metadata": {
    "scrolled": true
   },
   "outputs": [
    {
     "name": "stdout",
     "output_type": "stream",
     "text": [
      "Epoch 1/10\n",
      "54/54 [==============================] - 19s 350ms/step - loss: 0.5035 - accuracy: 0.7803 - val_loss: 0.7064 - val_accuracy: 0.6984\n",
      "Epoch 2/10\n",
      "54/54 [==============================] - 18s 337ms/step - loss: 0.4491 - accuracy: 0.8092 - val_loss: 0.7228 - val_accuracy: 0.6995\n",
      "Epoch 3/10\n",
      "54/54 [==============================] - 19s 357ms/step - loss: 0.4370 - accuracy: 0.8094 - val_loss: 0.6453 - val_accuracy: 0.7140\n",
      "Epoch 4/10\n",
      "54/54 [==============================] - 20s 371ms/step - loss: 0.4276 - accuracy: 0.8192 - val_loss: 0.7052 - val_accuracy: 0.7092\n",
      "Epoch 5/10\n",
      "54/54 [==============================] - 23s 424ms/step - loss: 0.4171 - accuracy: 0.8268 - val_loss: 0.6649 - val_accuracy: 0.7070\n",
      "Epoch 6/10\n",
      "54/54 [==============================] - 27s 494ms/step - loss: 0.4135 - accuracy: 0.8242 - val_loss: 0.7233 - val_accuracy: 0.7102\n",
      "Epoch 7/10\n",
      "54/54 [==============================] - 25s 455ms/step - loss: 0.3997 - accuracy: 0.8335 - val_loss: 0.7189 - val_accuracy: 0.7076\n",
      "Epoch 8/10\n",
      "54/54 [==============================] - 19s 359ms/step - loss: 0.3895 - accuracy: 0.8394 - val_loss: 0.6617 - val_accuracy: 0.7065\n",
      "Epoch 9/10\n",
      "54/54 [==============================] - 20s 374ms/step - loss: 0.3881 - accuracy: 0.8391 - val_loss: 0.6793 - val_accuracy: 0.7054\n",
      "Epoch 10/10\n",
      "54/54 [==============================] - 20s 364ms/step - loss: 0.3757 - accuracy: 0.8473 - val_loss: 0.6935 - val_accuracy: 0.7076\n"
     ]
    }
   ],
   "source": [
    "batch_size = 200\n",
    "epochs = 10\n",
    "\n",
    "model.compile(loss=\"binary_crossentropy\", optimizer=\"adam\", metrics=[\"accuracy\"])\n",
    "\n",
    "training = model.fit(x_Ntrain, y_Htrain, batch_size=batch_size, epochs=epochs, validation_data=(x_Ntest,y_Htest))"
   ]
  },
  {
   "cell_type": "code",
   "execution_count": 32,
   "id": "ec9d7641",
   "metadata": {
    "scrolled": true
   },
   "outputs": [
    {
     "data": {
      "image/png": "[encoded data removed]",
      "text/plain": [
       "<Figure size 432x288 with 1 Axes>"
      ]
     },
     "metadata": {
      "needs_background": "light"
     },
     "output_type": "display_data"
    }
   ],
   "source": [
    "xl = list(range(epochs))\n",
    "vy = training.history['val_loss']\n",
    "ty = training.history['loss']\n",
    "\n",
    "plt.plot( xl, vy,  label='Validation' )\n",
    "plt.plot( xl, ty, label='Train' )\n",
    "plt.show()\n"
   ]
  },
  {
   "cell_type": "code",
   "execution_count": 33,
   "id": "aea4f1ff",
   "metadata": {
    "scrolled": true
   },
   "outputs": [
    {
     "data": {
      "image/png": "[encoded data removed]",
      "text/plain": [
       "<Figure size 432x288 with 1 Axes>"
      ]
     },
     "metadata": {
      "needs_background": "light"
     },
     "output_type": "display_data"
    }
   ],
   "source": [
    "xl = list(range(epochs))\n",
    "vy = training.history['val_accuracy']\n",
    "ty = training.history['accuracy']\n",
    "\n",
    "plt.plot( xl, vy,  label='Validation' )\n",
    "plt.plot( xl, ty, label='Train' )\n",
    "plt.legend()\n",
    "plt.show()"
   ]
  },
  {
   "cell_type": "code",
   "execution_count": 34,
   "id": "6f54d835",
   "metadata": {
    "scrolled": true
   },
   "outputs": [
    {
     "name": "stdout",
     "output_type": "stream",
     "text": [
      "59/59 [==============================] - 1s 25ms/step - loss: 0.6935 - accuracy: 0.7076\n"
     ]
    },
    {
     "data": {
      "text/plain": [
       "array([[ 164,  484],\n",
       "       [  66, 1153]], dtype=int64)"
      ]
     },
     "execution_count": 34,
     "metadata": {},
     "output_type": "execute_result"
    }
   ],
   "source": [
    "model.evaluate(x_Ntest, y_Htest)\n",
    "\n",
    "from sklearn.metrics import confusion_matrix\n",
    "y_Hpred = model.predict(x_Ntest)\n",
    "y_Hpred = np.round(y_Hpred, decimals=0)\n",
    "\n",
    "confusion_matrix(y_Htest[:,0], y_Hpred[:,0])"
   ]
  },
  {
   "cell_type": "code",
   "execution_count": 38,
   "id": "47fe9e91",
   "metadata": {},
   "outputs": [
    {
     "name": "stdout",
     "output_type": "stream",
     "text": [
      "Epoch 1/30\n",
      "107/107 [==============================] - 85s 754ms/step - loss: 0.7166 - acc: 0.7556 - val_loss: 0.7320 - val_acc: 0.6438\n",
      "Epoch 2/30\n",
      "107/107 [==============================] - 77s 724ms/step - loss: 0.4564 - acc: 0.8056 - val_loss: 0.6628 - val_acc: 0.6642\n",
      "Epoch 3/30\n",
      "107/107 [==============================] - 78s 725ms/step - loss: 0.4244 - acc: 0.8215 - val_loss: 0.6821 - val_acc: 0.6352\n",
      "Epoch 4/30\n",
      "107/107 [==============================] - 78s 734ms/step - loss: 0.4024 - acc: 0.8283 - val_loss: 0.6924 - val_acc: 0.6395\n",
      "Epoch 5/30\n",
      "107/107 [==============================] - 78s 733ms/step - loss: 0.3869 - acc: 0.8388 - val_loss: 0.6787 - val_acc: 0.6610\n",
      "Epoch 6/30\n",
      "107/107 [==============================] - 80s 745ms/step - loss: 0.3714 - acc: 0.8427 - val_loss: 0.7085 - val_acc: 0.6599\n",
      "Epoch 7/30\n",
      "107/107 [==============================] - 78s 732ms/step - loss: 0.3609 - acc: 0.8461 - val_loss: 0.7898 - val_acc: 0.6604\n",
      "Epoch 8/30\n",
      "107/107 [==============================] - 79s 736ms/step - loss: 0.3499 - acc: 0.8540 - val_loss: 0.8959 - val_acc: 0.6647\n",
      "Epoch 9/30\n",
      "107/107 [==============================] - 78s 729ms/step - loss: 0.3297 - acc: 0.8652 - val_loss: 0.8551 - val_acc: 0.6701\n",
      "Epoch 10/30\n",
      "107/107 [==============================] - 88s 820ms/step - loss: 0.3196 - acc: 0.8686 - val_loss: 0.9520 - val_acc: 0.6727\n",
      "Epoch 11/30\n",
      "107/107 [==============================] - 79s 741ms/step - loss: 0.3095 - acc: 0.8709 - val_loss: 0.9097 - val_acc: 0.6722\n",
      "Epoch 12/30\n",
      "107/107 [==============================] - 80s 753ms/step - loss: 0.3024 - acc: 0.8751 - val_loss: 0.7789 - val_acc: 0.6470\n",
      "Epoch 13/30\n",
      "107/107 [==============================] - 77s 724ms/step - loss: 0.2892 - acc: 0.8841 - val_loss: 0.8201 - val_acc: 0.6593\n",
      "Epoch 14/30\n",
      "107/107 [==============================] - 77s 721ms/step - loss: 0.2757 - acc: 0.8850 - val_loss: 0.8828 - val_acc: 0.6502\n",
      "Epoch 15/30\n",
      "107/107 [==============================] - 78s 725ms/step - loss: 0.2652 - acc: 0.8924 - val_loss: 0.7790 - val_acc: 0.6497\n",
      "Epoch 16/30\n",
      "107/107 [==============================] - 77s 721ms/step - loss: 0.2617 - acc: 0.8933 - val_loss: 0.8536 - val_acc: 0.6711\n",
      "Epoch 17/30\n",
      "107/107 [==============================] - 78s 727ms/step - loss: 0.2445 - acc: 0.9033 - val_loss: 0.9016 - val_acc: 0.6599\n",
      "Epoch 18/30\n",
      "107/107 [==============================] - 78s 726ms/step - loss: 0.2421 - acc: 0.9010 - val_loss: 0.8342 - val_acc: 0.6438\n",
      "Epoch 19/30\n",
      "107/107 [==============================] - 76s 716ms/step - loss: 0.2237 - acc: 0.9129 - val_loss: 0.8667 - val_acc: 0.6663\n",
      "Epoch 20/30\n",
      "107/107 [==============================] - 76s 716ms/step - loss: 0.2207 - acc: 0.9126 - val_loss: 0.8228 - val_acc: 0.6315\n",
      "Epoch 21/30\n",
      "107/107 [==============================] - 77s 719ms/step - loss: 0.2114 - acc: 0.9158 - val_loss: 0.8242 - val_acc: 0.6508\n",
      "Epoch 22/30\n",
      "107/107 [==============================] - 77s 723ms/step - loss: 0.2012 - acc: 0.9207 - val_loss: 1.4091 - val_acc: 0.6663\n",
      "Epoch 23/30\n",
      "107/107 [==============================] - 76s 716ms/step - loss: 0.1939 - acc: 0.9257 - val_loss: 1.1335 - val_acc: 0.6690\n",
      "Epoch 24/30\n",
      "107/107 [==============================] - 83s 776ms/step - loss: 0.1866 - acc: 0.9274 - val_loss: 1.0652 - val_acc: 0.6626\n",
      "Epoch 25/30\n",
      "107/107 [==============================] - 79s 739ms/step - loss: 0.1813 - acc: 0.9297 - val_loss: 0.9715 - val_acc: 0.6620\n",
      "Epoch 26/30\n",
      "107/107 [==============================] - 82s 767ms/step - loss: 0.1684 - acc: 0.9374 - val_loss: 1.2835 - val_acc: 0.6610\n",
      "Epoch 27/30\n",
      "107/107 [==============================] - 84s 789ms/step - loss: 0.1674 - acc: 0.9393 - val_loss: 1.0935 - val_acc: 0.6690\n",
      "Epoch 28/30\n",
      "107/107 [==============================] - 81s 759ms/step - loss: 0.1635 - acc: 0.9375 - val_loss: 1.1350 - val_acc: 0.6593\n",
      "Epoch 29/30\n",
      "107/107 [==============================] - 78s 733ms/step - loss: 0.1506 - acc: 0.9443 - val_loss: 1.5725 - val_acc: 0.6706\n",
      "Epoch 30/30\n",
      "107/107 [==============================] - 85s 795ms/step - loss: 0.1461 - acc: 0.9455 - val_loss: 0.9549 - val_acc: 0.6095\n"
     ]
    }
   ],
   "source": [
    "#Initial Tests with Transfer Learning\n",
    "from tensorflow.keras.applications.inception_v3 import InceptionV3\n",
    "from tensorflow.keras import layers\n",
    "import tensorflow as tf\n",
    "\n",
    "base_model = InceptionV3(input_shape = (128, 128, 3), include_top = False, weights = 'imagenet')\n",
    "for layer in base_model.layers:\n",
    "    layer.trainable = False\n",
    "    \n",
    "x = layers.Flatten()(base_model.output)\n",
    "x = layers.Dense(512, activation='relu')(x)\n",
    "x = layers.Dropout(0.2)(x)\n",
    "x = layers.Dense(2, activation='sigmoid')(x)\n",
    "\n",
    "model = tf.keras.models.Model(base_model.input, x)\n",
    "\n",
    "model.compile(optimizer = 'adam', loss = 'binary_crossentropy', metrics = [\"accuracy\"])\n",
    "training = model.fit(x_Ntrain, y_Htrain, batch_size=100, epochs=30, validation_data=(x_Ntest,y_Htest))"
   ]
  },
  {
   "cell_type": "code",
   "execution_count": null,
   "id": "2692db46",
   "metadata": {},
   "outputs": [],
   "source": []
  }
 ],
 "metadata": {
  "kernelspec": {
   "display_name": "Python 3 (ipykernel)",
   "language": "python",
   "name": "python3"
  },
  "language_info": {
   "codemirror_mode": {
    "name": "ipython",
    "version": 3
   },
   "file_extension": ".py",
   "mimetype": "text/x-python",
   "name": "python",
   "nbconvert_exporter": "python",
   "pygments_lexer": "ipython3",
   "version": "3.9.11"
  }
 },
 "nbformat": 4,
 "nbformat_minor": 5
}
