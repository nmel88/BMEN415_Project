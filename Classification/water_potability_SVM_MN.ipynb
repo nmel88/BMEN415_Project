{
 "cells": [
  {
   "cell_type": "code",
   "execution_count": 1,
   "id": "a74a5707",
   "metadata": {},
   "outputs": [
    {
     "name": "stdout",
     "output_type": "stream",
     "text": [
      "   Unnamed: 0        ph    Hardness       Solids  Chloramines     Sulfate  \\\n",
      "0        1499  6.999765  219.143373  16078.45939     7.652135  355.688892   \n",
      "1        1264  8.575673  197.560283  15888.62521     4.865463  311.557381   \n",
      "2        1301  3.433874  152.480075  16318.73361     5.973098  313.064317   \n",
      "3        2685  8.376280  248.132861  27824.19048     7.100523  343.057975   \n",
      "4        1685  6.920389  252.352799  11086.25986     9.993376  285.744758   \n",
      "\n",
      "   Conductivity  Organic_carbon  Trihalomethanes  Turbidity  Potability  \n",
      "0    282.502338       17.297556        65.065069   3.360131           1  \n",
      "1    464.725567       18.736927        40.224521   3.506229           0  \n",
      "2    412.915539        9.970144        68.507542   4.104938           0  \n",
      "3    433.449899       18.658886        53.303760   5.703963           0  \n",
      "4    368.629147       17.120803        43.667082   3.277601           0  \n"
     ]
    }
   ],
   "source": [
    "from sklearn import svm\n",
    "from sklearn.svm import SVC\n",
    "from sklearn import metrics\n",
    "from sklearn.metrics import confusion_matrix, classification_report\n",
    "import pandas as pd\n",
    "import matplotlib.pyplot as plt\n",
    "import numpy as np\n",
    "import seaborn as sns\n",
    "from sklearn.preprocessing import StandardScaler\n",
    "\n",
    "df= pd.read_csv(r'C:/Users/Melanie/Downloads/trainWP.csv' )\n",
    "test= pd.read_csv(r'C:/Users/Melanie/Downloads/testWP.csv')\n",
    "\n",
    "print(df.head())\n",
    "x_train= df.drop('Potability', axis=1)\n",
    "y_train=df['Potability']\n",
    "\n",
    "x_test= test.drop('Potability', axis=1)\n",
    "y_test= test['Potability']\n",
    "\n",
    "\n",
    "#Scaling data to increase accuracy\n",
    "scaler=StandardScaler()\n",
    "x_train_s= scaler.fit_transform(x_train)\n",
    "x_test_s= scaler.fit_transform(x_test)\n",
    "\n",
    "# plt.scatter(X[:, 0], y, c=y)\n",
    "# # plt.scatter(X,y)\n",
    "# plt.show()"
   ]
  },
  {
   "cell_type": "code",
   "execution_count": 2,
   "id": "7834e4b0",
   "metadata": {},
   "outputs": [
    {
     "name": "stdout",
     "output_type": "stream",
     "text": [
      "Accuracy not scaled: 0.6737804878048781\n",
      "[[406  12]\n",
      " [202  36]]\n"
     ]
    },
    {
     "data": {
      "text/plain": [
       "<AxesSubplot:>"
      ]
     },
     "execution_count": 2,
     "metadata": {},
     "output_type": "execute_result"
    },
    {
     "data": {
      "image/png": "[encoded data removed]",
      "text/plain": [
       "<Figure size 432x288 with 2 Axes>"
      ]
     },
     "metadata": {
      "needs_background": "light"
     },
     "output_type": "display_data"
    }
   ],
   "source": [
    "svclassifier= SVC(kernel='rbf', gamma=0.0001)\n",
    "svclassifier.fit(x_train,y_train)\n",
    "\n",
    "y_pred= svclassifier.predict(x_test)\n",
    "\n",
    "\n",
    "print(\"Accuracy not scaled:\",metrics.accuracy_score(y_test, y_pred))\n",
    "\n",
    "cf_matrix=confusion_matrix(y_test, y_pred)\n",
    "print(cf_matrix)\n",
    "\n",
    "sns.heatmap(cf_matrix, fmt='d', annot = True)\n",
    "# print(\"Hello\")"
   ]
  },
  {
   "cell_type": "code",
   "execution_count": 3,
   "id": "c56865e2",
   "metadata": {},
   "outputs": [
    {
     "name": "stdout",
     "output_type": "stream",
     "text": [
      "Accuracy: 0.7042682926829268\n",
      "[[394  24]\n",
      " [170  68]]\n",
      "Accuracy: 0.7195121951219512\n",
      "[[377  41]\n",
      " [143  95]]\n",
      "Accuracy: 0.725609756097561\n",
      "[[373  45]\n",
      " [135 103]]\n",
      "Accuracy: 0.725609756097561\n",
      "[[370  48]\n",
      " [132 106]]\n",
      "Accuracy: 0.7134146341463414\n",
      "[[364  54]\n",
      " [134 104]]\n",
      "Accuracy: 0.7073170731707317\n",
      "[[364  54]\n",
      " [138 100]]\n",
      "Accuracy: 0.6996951219512195\n",
      "[[362  56]\n",
      " [141  97]]\n",
      "Accuracy: 0.698170731707317\n",
      "[[366  52]\n",
      " [146  92]]\n",
      "Accuracy: 0.6905487804878049\n",
      "[[368  50]\n",
      " [153  85]]\n",
      "Accuracy: 0.6890243902439024\n",
      "[[371  47]\n",
      " [157  81]]\n",
      "Accuracy: 0.6920731707317073\n",
      "[[375  43]\n",
      " [159  79]]\n",
      "Accuracy: 0.6905487804878049\n",
      "[[384  34]\n",
      " [169  69]]\n",
      "\n",
      "Highest accuracy: 0.725609756097561 where gamma:0.15 \n",
      "Accuracy: 0.725609756097561\n",
      "[[373  45]\n",
      " [135 103]]\n"
     ]
    },
    {
     "data": {
      "text/plain": [
       "<AxesSubplot:>"
      ]
     },
     "execution_count": 3,
     "metadata": {},
     "output_type": "execute_result"
    },
    {
     "data": {
      "image/png": "[encoded data removed]",
      "text/plain": [
       "<Figure size 432x288 with 2 Axes>"
      ]
     },
     "metadata": {
      "needs_background": "light"
     },
     "output_type": "display_data"
    }
   ],
   "source": [
    "#Testing different gamma values to find the one with the highest accuracy\n",
    "gammas= [0.05,0.1,0.15,0.2,0.25,0.30,0.35,0.4,0.45,0.5,0.55,0.6]\n",
    "\n",
    "accuracies=[]\n",
    "\n",
    "for g in gammas:\n",
    "    svclassifier= SVC(kernel='rbf', gamma=g)\n",
    "    svclassifier.fit(x_train_s,y_train)\n",
    "\n",
    "    y_pred= svclassifier.predict(x_test_s)\n",
    "    \n",
    "    accuracies.append(metrics.accuracy_score(y_test, y_pred))\n",
    "    print(\"Accuracy:\",metrics.accuracy_score(y_test, y_pred))\n",
    "\n",
    "    cf_matrix=confusion_matrix(y_test, y_pred)\n",
    "    print(cf_matrix)\n",
    "\n",
    "max_accuracy_index=accuracies.index(max(accuracies))\n",
    "print(\"\\nHighest accuracy: {} where gamma:{} \".format(max(accuracies), gammas[max_accuracy_index]))\n",
    "\n",
    "\n",
    "\n",
    "# Printing the confusion matrix of the gamma with the highest accuracy\n",
    "svclassifier= SVC(kernel='rbf', gamma=gammas[max_accuracy_index])\n",
    "# svclassifier= SVC(kernel='poly', degree=3)\n",
    "svclassifier.fit(x_train_s,y_train)\n",
    "\n",
    "y_pred= svclassifier.predict(x_test_s)\n",
    "\n",
    "print(\"Accuracy:\",metrics.accuracy_score(y_test, y_pred))\n",
    "\n",
    "cf_matrix=confusion_matrix(y_test, y_pred)\n",
    "print(cf_matrix)\n",
    "sns.heatmap(cf_matrix, fmt='d', annot = True)"
   ]
  },
  {
   "cell_type": "code",
   "execution_count": 4,
   "id": "5db43a7e",
   "metadata": {},
   "outputs": [
    {
     "name": "stdout",
     "output_type": "stream",
     "text": [
      "Accuracy: 0.7149390243902439\n",
      "[[364  54]\n",
      " [133 105]]\n"
     ]
    },
    {
     "data": {
      "text/plain": [
       "<AxesSubplot:>"
      ]
     },
     "execution_count": 4,
     "metadata": {},
     "output_type": "execute_result"
    },
    {
     "data": {
      "image/png": "[encoded data removed]",
      "text/plain": [
       "<Figure size 432x288 with 2 Axes>"
      ]
     },
     "metadata": {
      "needs_background": "light"
     },
     "output_type": "display_data"
    }
   ],
   "source": [
    "svclassifier= SVC(kernel='poly', coef0=1)\n",
    "svclassifier.fit(x_train_s,y_train)\n",
    "\n",
    "y_pred= svclassifier.predict(x_test_s)\n",
    "\n",
    "print(\"Accuracy:\",metrics.accuracy_score(y_test, y_pred))\n",
    "\n",
    "cf_matrix=confusion_matrix(y_test, y_pred)\n",
    "print(cf_matrix)\n",
    "sns.heatmap(cf_matrix, fmt='d', annot = True)"
   ]
  }
 ],
 "metadata": {
  "kernelspec": {
   "display_name": "Python 3 (ipykernel)",
   "language": "python",
   "name": "python3"
  },
  "language_info": {
   "codemirror_mode": {
    "name": "ipython",
    "version": 3
   },
   "file_extension": ".py",
   "mimetype": "text/x-python",
   "name": "python",
   "nbconvert_exporter": "python",
   "pygments_lexer": "ipython3",
   "version": "3.9.7"
  }
 },
 "nbformat": 4,
 "nbformat_minor": 5
}
