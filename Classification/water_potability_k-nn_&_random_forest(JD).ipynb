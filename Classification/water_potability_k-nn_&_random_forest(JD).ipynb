{
 "cells": [
  {
   "cell_type": "code",
   "execution_count": 26,
   "id": "5a9ec43c",
   "metadata": {
    "scrolled": true
   },
   "outputs": [],
   "source": [
    "#K-NN and Random Forest Classification Models for the Water Potability Data \n",
    "import numpy as np\n",
    "import pandas as pd\n",
    "import csv\n",
    "from sklearn.metrics import confusion_matrix\n",
    "\n",
    "#Importing Segmented Data\n",
    "test = pd.read_csv('testWP.csv')\n",
    "train = pd.read_csv('trainWP.csv')\n",
    "\n",
    "test = test[test.columns[1:11]]  #Dropping Index Values\n",
    "train =  train[train.columns[1:11]]\n",
    "\n",
    "x_test= test[test.columns[0:9]] #Partitioning Test Set\n",
    "y_test = test.loc[:,'Potability']\n",
    "\n",
    "x_train = train[train.columns[0:9]]  #Partitioning Train Set\n",
    "y_train = train.loc[:,'Potability']"
   ]
  },
  {
   "cell_type": "code",
   "execution_count": 27,
   "id": "8ea26ab1",
   "metadata": {
    "scrolled": true
   },
   "outputs": [
    {
     "name": "stdout",
     "output_type": "stream",
     "text": [
      "Highest Accuracy Achieved is 0.6341463414634146\n",
      "Optimal K for the K-NN Model is 16\n"
     ]
    },
    {
     "data": {
      "text/plain": [
       "array([[378,  40],\n",
       "       [200,  38]], dtype=int64)"
      ]
     },
     "execution_count": 27,
     "metadata": {},
     "output_type": "execute_result"
    }
   ],
   "source": [
    "#K-Nearest Neighbors Model\n",
    "from sklearn.neighbors import KNeighborsClassifier #Importing Needed Library\n",
    "\n",
    "#Conducting a Parametric Sweep\n",
    "score = np.empty([40,2])\n",
    "for n in range(40):\n",
    "    neigh = KNeighborsClassifier(n_neighbors=n+1)\n",
    "    neigh.fit(x_train, y_train)\n",
    "    score[n,1] = neigh.score(x_test, y_test, sample_weight=None)\n",
    "    score[n,0] = n+1\n",
    "\n",
    "index = np.argmax(score[:,1])\n",
    "\n",
    "neighfinal = KNeighborsClassifier(n_neighbors=16)\n",
    "neighfinal.fit(x_train, y_train)\n",
    "print('Highest Accuracy Achieved is',neighfinal.score(x_test, y_test, sample_weight=None))\n",
    "\n",
    "print('Optimal K for the K-NN Model is',int(score[int(index),0]) )\n",
    "\n",
    "\n",
    "y_pred = neighfinal.predict(x_test)\n",
    "confusion_matrix(y_test, y_pred)"
   ]
  },
  {
   "cell_type": "code",
   "execution_count": 21,
   "id": "80d82aab",
   "metadata": {
    "scrolled": true
   },
   "outputs": [
    {
     "name": "stdout",
     "output_type": "stream",
     "text": [
      "0.7103658536585366\n"
     ]
    }
   ],
   "source": [
    "from sklearn.ensemble import RandomForestClassifier\n",
    "from sklearn.model_selection import train_test_split \n",
    "from sklearn.model_selection import cross_val_score\n",
    "\n",
    "clf = RandomForestClassifier(n_estimators=250) #Number of Trees = N_estimators\n",
    "clf.fit(x_train, y_train)\n",
    "print(clf.score(x_test, y_test, sample_weight=None))"
   ]
  },
  {
   "cell_type": "code",
   "execution_count": 22,
   "id": "6e4dd44c",
   "metadata": {
    "scrolled": true
   },
   "outputs": [
    {
     "name": "stdout",
     "output_type": "stream",
     "text": [
      "0.7088414634146342\n"
     ]
    }
   ],
   "source": [
    "clf = RandomForestClassifier(n_estimators=500) #Number of Trees = N_estimators\n",
    "clf.fit(x_train, y_train)\n",
    "print(clf.score(x_test, y_test, sample_weight=None))"
   ]
  },
  {
   "cell_type": "code",
   "execution_count": 23,
   "id": "e1997357",
   "metadata": {
    "scrolled": true
   },
   "outputs": [
    {
     "name": "stdout",
     "output_type": "stream",
     "text": [
      "0.6996951219512195\n"
     ]
    }
   ],
   "source": [
    "clf = RandomForestClassifier(n_estimators=100) #Number of Trees = N_estimators\n",
    "clf.fit(x_train, y_train)\n",
    "print(clf.score(x_test, y_test, sample_weight=None))"
   ]
  },
  {
   "cell_type": "code",
   "execution_count": 24,
   "id": "ba92b6ca",
   "metadata": {
    "scrolled": true
   },
   "outputs": [
    {
     "name": "stdout",
     "output_type": "stream",
     "text": [
      "0.7103658536585366\n"
     ]
    }
   ],
   "source": [
    "clf = RandomForestClassifier(n_estimators=1000) #Number of Trees = N_estimators\n",
    "clf.fit(x_train, y_train)\n",
    "print(clf.score(x_test, y_test, sample_weight=None))"
   ]
  },
  {
   "cell_type": "code",
   "execution_count": 25,
   "id": "abd0d745",
   "metadata": {
    "scrolled": true
   },
   "outputs": [
    {
     "name": "stdout",
     "output_type": "stream",
     "text": [
      "0.7103658536585366\n"
     ]
    },
    {
     "data": {
      "text/plain": [
       "array([[380,  38],\n",
       "       [152,  86]], dtype=int64)"
      ]
     },
     "execution_count": 25,
     "metadata": {},
     "output_type": "execute_result"
    }
   ],
   "source": [
    "clf = RandomForestClassifier(n_estimators=1200) #Number of Trees = N_estimators\n",
    "clf.fit(x_train, y_train)\n",
    "print(clf.score(x_test, y_test, sample_weight=None))\n",
    "\n",
    "y_pred = clf.predict(x_test)\n",
    "from sklearn.metrics import confusion_matrix\n",
    "confusion_matrix(y_test, y_pred)"
   ]
  },
  {
   "cell_type": "code",
   "execution_count": null,
   "id": "0ad40cd6",
   "metadata": {},
   "outputs": [],
   "source": []
  }
 ],
 "metadata": {
  "kernelspec": {
   "display_name": "Python 3 (ipykernel)",
   "language": "python",
   "name": "python3"
  },
  "language_info": {
   "codemirror_mode": {
    "name": "ipython",
    "version": 3
   },
   "file_extension": ".py",
   "mimetype": "text/x-python",
   "name": "python",
   "nbconvert_exporter": "python",
   "pygments_lexer": "ipython3",
   "version": "3.9.11"
  }
 },
 "nbformat": 4,
 "nbformat_minor": 5
}
