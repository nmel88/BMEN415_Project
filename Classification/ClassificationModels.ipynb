{
 "cells": [
  {
   "cell_type": "code",
   "execution_count": 612,
   "metadata": {},
   "outputs": [],
   "source": [
    "#sources: \n",
    "# https://www.projectpro.io/recipes/use-classification-and-regression-tree-in-python\n",
    "# https://machinelearningmastery.com/bagging-ensemble-with-python/\n",
    "# https://stackabuse.com/gradient-boosting-classifiers-in-python-with-scikit-learn/\n",
    "\n",
    "import numpy as np\n",
    "import pandas as pd\n",
    "import matplotlib.pyplot as plt  \n",
    "import seaborn as sns\n",
    "from sklearn import tree\n",
    "from sklearn.tree import  DecisionTreeClassifier\n",
    "from sklearn import metrics\n",
    "from sklearn.ensemble import BaggingClassifier, AdaBoostClassifier\n",
    "\n",
    "\n",
    "\n",
    "#importing data, assigning testing/training \n",
    "train_data = pd.read_csv(r\"C:\\Users\\rehak\\Desktop\\trainWP.csv\")\n",
    "test_data = pd.read_csv(r\"C:\\Users\\rehak\\Desktop\\testWP.csv\")\n",
    "\n",
    "xtrain= train_data[train_data.columns[1:10]]\n",
    "ytrain= train_data.loc[:,'Potability']\n",
    "\n",
    "xtest= test_data[test_data.columns[1:10]]\n",
    "ytest= test_data.loc[:,'Potability']\n",
    "\n",
    "expectedy = ytest"
   ]
  },
  {
   "cell_type": "code",
   "execution_count": 613,
   "metadata": {},
   "outputs": [
    {
     "name": "stdout",
     "output_type": "stream",
     "text": [
      "DecisionTreeClassifier()\n",
      "Confusion matrix:\n",
      "[[282 136]\n",
      " [120 118]]\n",
      "Accuracy: 0.6097560975609756\n",
      "~~~~~~~~~~~~~~~~~~~~~~~~~~~~~~~~~~~~~~~~~~~~~~~~~~~~~~~~~~~~~~~~~~~~~~~~~~~~~\n"
     ]
    }
   ],
   "source": [
    "#CART\n",
    "\n",
    "cartmodel = DecisionTreeClassifier()       #worst model - it has a considerably low accuracy of ~61%\n",
    "cartmodel.fit(xtrain,ytrain)               #different inputs than the pre-sets into the functiondo not yield substantially different results\n",
    "print(cartmodel)\n",
    "\n",
    "predy = cartmodel.predict(xtest)\n",
    "\n",
    "print(\"Confusion matrix:\")\n",
    "print(metrics.confusion_matrix(expectedy,predy))\n",
    "print(\"Accuracy:\", metrics.accuracy_score(expectedy,predy))\n",
    "print(\"~~~~~~~~~~~~~~~~~~~~~~~~~~~~~~~~~~~~~~~~~~~~~~~~~~~~~~~~~~~~~~~~~~~~~~~~~~~~~\")"
   ]
  },
  {
   "cell_type": "code",
   "execution_count": 614,
   "metadata": {},
   "outputs": [
    {
     "name": "stdout",
     "output_type": "stream",
     "text": [
      "AdaBoostClassifier(learning_rate=0.1, n_estimators=100)\n",
      "Confusion matrix:\n",
      "[[406  12]\n",
      " [212  26]]\n",
      "Accuracy: 0.6585365853658537\n",
      "~~~~~~~~~~~~~~~~~~~~~~~~~~~~~~~~~~~~~~~~~~~~~~~~~~~~~~~~~~~~~~~~~~~~~~~~~~~~~\n"
     ]
    }
   ],
   "source": [
    "#(Adaptive) Boosting\n",
    "\n",
    "rate = [0.01 ,0.02,0.05,0.1,0.2,0.5,1,2,5]\n",
    "num = [1,2,5,10,20,50,100,200]\n",
    "\n",
    "#for i in range (0, len(rate)):\n",
    " #   for j in range (0, len(num)):      \n",
    "  #      boostmodel = AdaBoostClassifier(n_estimators=num[j], learning_rate=rate[i])      \n",
    "  #      #number of estimators nor the rate matter - use a suitable option, like learning rate = 1 and n_estimators = 1, accuracy of ~65%\n",
    "   #     boostmodel.fit(xtrain,ytrain)\n",
    "    #    print(boostmodel)\n",
    "\n",
    "     #   predy = boostmodel.predict(xtest)\n",
    "\n",
    "       # print(\"Confusion matrix:\")\n",
    "       # print(metrics.confusion_matrix(expectedy,predy))\n",
    "       # print(\"Accuracy:\", metrics.accuracy_score(expectedy,predy))\n",
    "       # print(\"~~~~~~~~~~~~~~~~~~~~~~~~~~~~~~~~~~~~~~~~~~~~~~~~~~~~~~~~~~~~~~~~~~~~~~~~~~~~~\")\n",
    "\n",
    "#best result at rate = 0.1, n_estimators = 100\n",
    "\n",
    "boostmodel = AdaBoostClassifier(n_estimators=100, learning_rate=0.1)      \n",
    "#number of estimators nor the rate matter - use a suitable option, like learning rate = 1 and n_estimators = 1, accuracy of ~65%\n",
    "boostmodel.fit(xtrain,ytrain)\n",
    "print(boostmodel)\n",
    "\n",
    "predy = boostmodel.predict(xtest)\n",
    "\n",
    "print(\"Confusion matrix:\")\n",
    "print(metrics.confusion_matrix(expectedy,predy))\n",
    "print(\"Accuracy:\", metrics.accuracy_score(expectedy,predy))\n",
    "print(\"~~~~~~~~~~~~~~~~~~~~~~~~~~~~~~~~~~~~~~~~~~~~~~~~~~~~~~~~~~~~~~~~~~~~~~~~~~~~~\")"
   ]
  },
  {
   "cell_type": "code",
   "execution_count": 615,
   "metadata": {},
   "outputs": [
    {
     "name": "stdout",
     "output_type": "stream",
     "text": [
      "BaggingClassifier(max_features=2, max_samples=3, n_estimators=100)\n",
      "Confusion matrix:\n",
      "[[418   0]\n",
      " [238   0]]\n",
      "Accuracy: 0.6371951219512195\n",
      "~~~~~~~~~~~~~~~~~~~~~~~~~~~~~~~~~~~~~~~~~~~~~~~~~~~~~~~~~~~~~~~~~~~~~~~~~~~~~\n"
     ]
    }
   ],
   "source": [
    "#Bagged Trees\n",
    "\n",
    "num = [1,10,50,100,200]\n",
    "sam = [1,2,3,4,5]\n",
    "fea = [1,2,3,4,5]\n",
    "\n",
    "#for k in range (0, len(fea)-1):                \n",
    " # for j in range (0, len(sam)):\n",
    "  # for i in range (0, len(num)):                                                                   \n",
    "   #      bagmodel = BaggingClassifier(n_estimators=num[i], max_samples = sam[j], max_features = fea[k])\n",
    "    #     bagmodel.fit(xtrain,ytrain)\n",
    "     #    print(bagmodel)\n",
    "      #   predy = bagmodel.predict(xtest)\n",
    "\n",
    "      #   print(\"Accuracy:\", metrics.accuracy_score(expectedy,predy))\n",
    "       #   print(\"~~~~~~~~~~~~~~~~~~~~~~~~~~~~~~~~~~~~~~~~~~~~~~~~~~~~~~~~~~~~~~~~~~~~~~~~~~~~~\")\n",
    "\n",
    "\n",
    "#best results consistentlly at around 2 features, 3 samples, 100 estimators\n",
    "\n",
    "bagmodel = BaggingClassifier(n_estimators=100, max_samples = 3, max_features = 2)\n",
    "bagmodel.fit(xtrain,ytrain)\n",
    "print(bagmodel)\n",
    "predy = bagmodel.predict(xtest)\n",
    "\n",
    "print(\"Confusion matrix:\")\n",
    "print(metrics.confusion_matrix(expectedy,predy))\n",
    "print(\"Accuracy:\", metrics.accuracy_score(expectedy,predy))\n",
    "print(\"~~~~~~~~~~~~~~~~~~~~~~~~~~~~~~~~~~~~~~~~~~~~~~~~~~~~~~~~~~~~~~~~~~~~~~~~~~~~~\")"
   ]
  }
 ],
 "metadata": {
  "interpreter": {
   "hash": "c796eda1a4e1cd056c2467bc2ff847cfd209f1678453749c6c1174e27dc51a18"
  },
  "kernelspec": {
   "display_name": "Python 3.9.6 64-bit",
   "language": "python",
   "name": "python3"
  },
  "language_info": {
   "codemirror_mode": {
    "name": "ipython",
    "version": 3
   },
   "file_extension": ".py",
   "mimetype": "text/x-python",
   "name": "python",
   "nbconvert_exporter": "python",
   "pygments_lexer": "ipython3",
   "version": "3.9.7"
  },
  "orig_nbformat": 4
 },
 "nbformat": 4,
 "nbformat_minor": 2
}
